{
  "nbformat": 4,
  "nbformat_minor": 0,
  "metadata": {
    "colab": {
      "provenance": [],
      "authorship_tag": "ABX9TyPDmqlMTbmVm0lOhlU6n5Wc",
      "include_colab_link": true
    },
    "kernelspec": {
      "name": "python3",
      "display_name": "Python 3"
    },
    "language_info": {
      "name": "python"
    }
  },
  "cells": [
    {
      "cell_type": "markdown",
      "metadata": {
        "id": "view-in-github",
        "colab_type": "text"
      },
      "source": [
        "<a href=\"https://colab.research.google.com/github/Diya1s/Diya1s/blob/main/pandasfunction.ipynb\" target=\"_parent\"><img src=\"https://colab.research.google.com/assets/colab-badge.svg\" alt=\"Open In Colab\"/></a>"
      ]
    },
    {
      "cell_type": "code",
      "execution_count": 10,
      "metadata": {
        "colab": {
          "base_uri": "https://localhost:8080/"
        },
        "id": "KWh3cdSC8QPH",
        "outputId": "daa80d0f-91c4-451d-c323-d9b7a2237476"
      },
      "outputs": [
        {
          "output_type": "stream",
          "name": "stdout",
          "text": [
            "Reading data from Iris.csv...\n",
            "Data imported successfully!\n",
            "Here is a preview of the data:\n",
            "   Id  SepalLengthCm  SepalWidthCm  PetalLengthCm  PetalWidthCm      Species\n",
            "0   1            5.1           3.5            1.4           0.2  Iris-setosa\n",
            "1   2            4.9           3.0            1.4           0.2  Iris-setosa\n",
            "2   3            4.7           3.2            1.3           0.2  Iris-setosa\n",
            "3   4            4.6           3.1            1.5           0.2  Iris-setosa\n",
            "4   5            5.0           3.6            1.4           0.2  Iris-setosa\n",
            "\n",
            "Modified data preview:\n",
            "   Id  SepalLengthCm  SepalWidthCm  PetalLengthCm  PetalWidthCm      Species  \\\n",
            "0   1            5.1           3.5            1.4           0.2  Iris-setosa   \n",
            "1   2            4.9           3.0            1.4           0.2  Iris-setosa   \n",
            "2   3            4.7           3.2            1.3           0.2  Iris-setosa   \n",
            "3   4            4.6           3.1            1.5           0.2  Iris-setosa   \n",
            "4   5            5.0           3.6            1.4           0.2  Iris-setosa   \n",
            "\n",
            "   Processed  \n",
            "0       11.2  \n",
            "1       11.5  \n",
            "2       12.4  \n",
            "3       13.4  \n",
            "4       15.2  \n",
            "\n",
            "Modified data exported successfully to new_data.csv.\n"
          ]
        }
      ],
      "source": [
        "# Import the pandas library\n",
        "import pandas as pd\n",
        "\n",
        "# Function to demonstrate importing and exporting data using pandas\n",
        "def import_export_data():\n",
        "    # Step 1: Import data from a CSV file\n",
        "    # Assuming the file 'input_data.csv' exists in the current directory\n",
        "    try:\n",
        "        input_file = 'Iris.csv'\n",
        "        print(f\"Reading data from {input_file}...\")\n",
        "        data = pd.read_csv(input_file)\n",
        "        print(\"Data imported successfully!\")\n",
        "        print(\"Here is a preview of the data:\")\n",
        "        print(data.head())  # Show the first 5 rows of the dataset\n",
        "\n",
        "        # Step 2: Perform some operations on the data (optional)\n",
        "        # For demonstration, we'll add a new column 'Processed'\n",
        "        data['Processed'] = data.select_dtypes(include='number').sum(axis=1)\n",
        "        print(\"\\nModified data preview:\")\n",
        "        print(data.head())\n",
        "\n",
        "        # Step 3: Export the modified data to a new CSV file\n",
        "        output_file = 'new_data.csv'\n",
        "        data.to_csv(output_file, index=False)\n",
        "        print(f\"\\nModified data exported successfully to {output_file}.\")\n",
        "\n",
        "    except FileNotFoundError:\n",
        "        print(f\"Error: The file {input_file} does not exist.\")\n",
        "    except Exception as e:\n",
        "        print(f\"An error occurred: {e}\")\n",
        "\n",
        "# Call the function to execute the process\n",
        "if __name__ == \"__main__\":\n",
        "    import_export_data()\n"
      ]
    }
  ]
}